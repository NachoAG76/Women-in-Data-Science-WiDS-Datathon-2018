{
 "cells": [
  {
   "cell_type": "markdown",
   "metadata": {},
   "source": [
    "# WiDS Datathon\n",
    "_____\n",
    "<img src=\"./img/wids-logo.jpg\" width=200>\n",
    "\n",
    "This is my python solution for the WiDS Datathon, which is a new feature of the WiDS conference 2018. You can read about the datathon [Here](http://www.widsconference.org/datathon.html). This competition was launched by [kaggle](https://www.kaggle.com/c/wids2018datathon).\n",
    "\n",
    "The dataset includes demographic and behavioral information from a sample of survey from India, related to their usage of financial services. The goal of this project is to predict gender, exploring the key differences in behavior patterns between men and women. By doing so, this competition seeks to encourage female data scientists to engage in social impact solutions and to help the poor people. Especially, InterMedia, where provide the dataset, seeks to help the world's poorest people take advantage of mobile phones/digital technoglogy to participate fully in their local economies.\n",
    "\n",
    "### Data\n",
    "- train.csv : training data (18255 rows, 1235 columns)\n",
    "- test.csv : test data (27285 rows, 1234 columns)\n",
    "- WiDS data dictionary v2.xlsx.html : feature descriptions dictionary \n",
    "\n",
    "### Target variable (Classification)\n",
    "- <b>is_female</b> : is_female=1 for female and is_female=0 for male (while is_female=2 for female and is_female=1 for male in the dictionary table)"
   ]
  },
  {
   "cell_type": "markdown",
   "metadata": {},
   "source": [
    "### Overview\n",
    "\n",
    "0. File Load\n",
    "1. Drop the columns with ONLY missing values (50 columns)\n",
    "2. Data Type Exploration\n",
    "3. Data Preparation\n",
    "4. Data Type change : float -> object\n",
    "5. Make New Features\n",
    "6. One-Hot Encoding\n",
    "7. Find overlapping columns\n",
    "8. Model Fitting \n",
    "9. Make a submission file"
   ]
  },
  {
   "cell_type": "code",
   "execution_count": 74,
   "metadata": {
    "ExecuteTime": {
     "end_time": "2018-03-09T18:48:26.403846Z",
     "start_time": "2018-03-09T18:48:26.267918Z"
    }
   },
   "outputs": [
    {
     "name": "stderr",
     "output_type": "stream",
     "text": [
      "Exception ignored in: <bound method DMatrix.__del__ of <xgboost.core.DMatrix object at 0x1a20289e10>>\n",
      "Traceback (most recent call last):\n",
      "  File \"/Users/ryan/anaconda3/lib/python3.6/site-packages/xgboost/core.py\", line 368, in __del__\n",
      "    if self.handle is not None:\n",
      "AttributeError: 'DMatrix' object has no attribute 'handle'\n"
     ]
    }
   ],
   "source": [
    "import pandas as pd\n",
    "import numpy as np\n",
    "import seaborn as sns\n",
    "import matplotlib.pyplot as plt\n",
    "from sklearn.cross_validation import train_test_split, cross_val_score\n",
    "from sklearn.model_selection import KFold\n",
    "from sklearn.model_selection import StratifiedKFold\n",
    "from sklearn.metrics import roc_auc_score\n",
    "from sklearn import *\n",
    "import xgboost as xgb\n",
    "import scipy.stats as st\n",
    "%matplotlib inline\n",
    "matplotlib.style.use('ggplot')\n",
    "\n",
    "from tqdm import tqdm\n",
    "import warnings\n",
    "warnings.filterwarnings('ignore')"
   ]
  },
  {
   "cell_type": "markdown",
   "metadata": {},
   "source": [
    "## 1. File Load\n",
    "_________________"
   ]
  },
  {
   "cell_type": "code",
   "execution_count": 23,
   "metadata": {
    "ExecuteTime": {
     "end_time": "2018-03-09T17:37:45.054073Z",
     "start_time": "2018-03-09T17:37:33.127301Z"
    }
   },
   "outputs": [],
   "source": [
    "train=pd.read_csv(\"train.csv\",low_memory=False)\n",
    "test=pd.read_csv(\"test.csv\",low_memory=False)\n",
    "df = pd.read_excel('WiDS data dictionary v2.xlsx')"
   ]
  },
  {
   "cell_type": "code",
   "execution_count": 24,
   "metadata": {
    "ExecuteTime": {
     "end_time": "2018-03-09T17:37:45.058702Z",
     "start_time": "2018-03-09T17:37:45.055570Z"
    }
   },
   "outputs": [
    {
     "name": "stdout",
     "output_type": "stream",
     "text": [
      "(18255, 1235) (27285, 1234)\n"
     ]
    }
   ],
   "source": [
    "print(train.shape, test.shape)"
   ]
  },
  {
   "cell_type": "markdown",
   "metadata": {},
   "source": [
    "## 2. Drop the columns with ONLY missing values (50 columns)\n",
    "---------------\n",
    "\n",
    "| Data | # of Original columns | Only missing values in train set| result\n",
    "| :- |:-------------: | :-:| :-:\n",
    "|Train Data| 1235  | 50| 1185\n",
    "|Test Data| 1234 | 50| 1184"
   ]
  },
  {
   "cell_type": "code",
   "execution_count": 25,
   "metadata": {
    "ExecuteTime": {
     "end_time": "2018-03-09T17:37:46.259652Z",
     "start_time": "2018-03-09T17:37:45.061884Z"
    }
   },
   "outputs": [
    {
     "name": "stdout",
     "output_type": "stream",
     "text": [
      "(18255, 1185)\n",
      "(27285, 1184)\n"
     ]
    }
   ],
   "source": [
    "all_nan = train.isnull().sum()[train.isnull().sum(axis=0)==18255].index.values.tolist()\n",
    "train.drop(all_nan,axis=1,inplace=True)\n",
    "test.drop(all_nan,axis=1,inplace=True)\n",
    "\n",
    "print(train.shape, test.shape)"
   ]
  },
  {
   "cell_type": "markdown",
   "metadata": {},
   "source": [
    "## 3. Data Type Exploration\n",
    "---------------\n",
    "Originally, the data type is:\n",
    "\n",
    "| Data | Numeric Data | String Data | Total\n",
    "| :- |:-------------: | :-:| :-:\n",
    "|Train Data| 1089  | 96| 1185\n",
    "|Test Data| 1097 | 87| 1184\n",
    "\n",
    "I changed the data type of 9 features in test data into string data (The pandas considered them as numeric data because the 9 features only included np.nan value.)"
   ]
  },
  {
   "cell_type": "code",
   "execution_count": 26,
   "metadata": {
    "ExecuteTime": {
     "end_time": "2018-03-09T17:37:46.605441Z",
     "start_time": "2018-03-09T17:37:46.262445Z"
    }
   },
   "outputs": [
    {
     "name": "stdout",
     "output_type": "stream",
     "text": [
      "Train: Numeric columns: 1089, Non-Numeric columns :96\n",
      "Test: Numeric columns: 1097, Non-Numeric columns :87\n"
     ]
    }
   ],
   "source": [
    "def dist_number(df):\n",
    "    return df.select_dtypes(include=[np.number]), df.select_dtypes(exclude=[np.number])\n",
    "\n",
    "num_train, st_train = dist_number(train)\n",
    "num_test, st_test = dist_number(test)\n",
    "print(\"Train: Numeric columns: {0}, Non-Numeric columns :{1}\".format(num_train.shape[1],st_train.shape[1]))\n",
    "print(\"Test: Numeric columns: {0}, Non-Numeric columns :{1}\".format(num_test.shape[1],st_test.shape[1]))"
   ]
  },
  {
   "cell_type": "code",
   "execution_count": 27,
   "metadata": {
    "ExecuteTime": {
     "end_time": "2018-03-09T17:37:49.885909Z",
     "start_time": "2018-03-09T17:37:49.407660Z"
    }
   },
   "outputs": [],
   "source": [
    "def change_format(st_train,st_test):\n",
    "    df1=pd.DataFrame(st_train.columns.values,columns=['c1'])\n",
    "    df2=pd.DataFrame(st_test.columns.values,columns=['c2'])\n",
    "    new = df1.merge(df2,left_on='c1',right_on='c2',how='outer')\n",
    "    for i in range(len(new[new.c2.isnull()]['c1'].values)):\n",
    "        test[test.columns[i]]=test[test.columns[i]].astype(object) \n",
    "    return test\n",
    "\n",
    "test = change_format(st_train,st_test)"
   ]
  },
  {
   "cell_type": "code",
   "execution_count": 28,
   "metadata": {
    "ExecuteTime": {
     "end_time": "2018-03-09T17:37:50.748629Z",
     "start_time": "2018-03-09T17:37:50.380155Z"
    }
   },
   "outputs": [
    {
     "name": "stdout",
     "output_type": "stream",
     "text": [
      "Train: Numeric columns: 1089, Non-Numeric columns :96\n",
      "Test: Numeric columns: 1088, Non-Numeric columns :96\n"
     ]
    }
   ],
   "source": [
    "num_train, st_train = dist_number(train)\n",
    "num_test, st_test = dist_number(test)\n",
    "print(\"Train: Numeric columns: {0}, Non-Numeric columns :{1}\".format(num_train.shape[1],st_train.shape[1]))\n",
    "print(\"Test: Numeric columns: {0}, Non-Numeric columns :{1}\".format(num_test.shape[1],st_test.shape[1]))"
   ]
  },
  {
   "cell_type": "markdown",
   "metadata": {},
   "source": [
    "The final data type is: \n",
    "\n",
    "  | Data | Numeric Data | String Data | Total\n",
    "| :- |:-------------: | :-:| :-:\n",
    "|Train Data| 1089  | 96| 1185\n",
    "|Test Data| 1088 | 96| 1184"
   ]
  },
  {
   "cell_type": "markdown",
   "metadata": {},
   "source": [
    "## 4. Data Preparation\n",
    "---------------\n",
    "There are several features engineering for this data. I only applied 1\n",
    "1. At least 99% non-nan values\n",
    "2. AA7 - pick only Top20  \n",
    "3. DG1 - birth year to age   \n",
    "4. Delete - 'G2P3_1', 'G2P3_7','G2P3_8','G2P3_9','G2P3_11','G2P3_13'\n",
    "5.  five continuous columns     "
   ]
  },
  {
   "cell_type": "code",
   "execution_count": 76,
   "metadata": {
    "ExecuteTime": {
     "end_time": "2018-03-09T18:54:07.802450Z",
     "start_time": "2018-03-09T18:54:06.418816Z"
    }
   },
   "outputs": [
    {
     "name": "stdout",
     "output_type": "stream",
     "text": [
      "440\n",
      "436\n"
     ]
    }
   ],
   "source": [
    "## string at least 99.5% non-nan values\n",
    "def most_nan(df,num,fraction,want_nan):\n",
    "    missing_df = df.isnull().sum(axis=0).reset_index()\n",
    "    missing_df.columns = ['column_name','missing_count']\n",
    "    missing_df = missing_df.ix[missing_df['missing_count']>0]\n",
    "    missing_df = missing_df.sort_values(by='missing_count',ascending=False)\n",
    "    if most_nan:\n",
    "        return missing_df[missing_df['missing_count']>=num*fraction]['column_name'].values\n",
    "    else:\n",
    "        return missing_df[missing_df['missing_count']<num*fraction]['column_name'].values   \n",
    "#not_m_nan = most_nan(st_train,18255,0.8,False)\n",
    "## 1. AT LEAST 99 % NON-NAN VALUES\n",
    "\n",
    "def delete_columns(df,num,fraction,want_nan):\n",
    "    m_nan = most_nan(df,num,fraction,want_nan)\n",
    "    col = df.columns.values.tolist()\n",
    "    remove_list=['train_id','is_female','G2P3_1','G2P3_7','G2P3_8','G2P3_9','G2P3_11','G2P3_13']\n",
    "    conti=['AA14','AA15','DL8','MT6C']\n",
    "    for i in remove_list:\n",
    "        col.remove(i)\n",
    "    col = [x for x in col if x not in m_nan]\n",
    "    print(len(col))\n",
    "\n",
    "    ## (7)\n",
    "    for x in conti:\n",
    "        col.remove(x)\n",
    "    print(len(col))\n",
    "    return col\n",
    "    \n",
    "col = delete_columns(num_train,18255,0.8,True)\n",
    "\n",
    "def other_preprocessing(train,test):\n",
    "    aa7_sub_list = train['AA7'].value_counts()[:20].index.values.tolist()\n",
    "    train['AA7']=train.AA7.apply(lambda x:x if x in aa7_sub_list else 1)\n",
    "    test['AA7']=test.AA7.apply(lambda x:x if x in aa7_sub_list else 1)\n",
    "    \n",
    "    ## (3) DG1->AGE\n",
    "    train['DG1']=2018-train['DG1']\n",
    "    test['DG1']=2018-test['DG1']\n",
    "    for i in range(33):\n",
    "        train.loc[(train['MT11']>3*i) & (train['MT11']<=3*(i+1)),'MT11']=i+1\n",
    "        test.loc[(train['MT11']>3*i) & (test['MT11']<=3*(i+1)),'MT11']=i+1\n",
    "    ### Continuous features\n",
    "    ### 'AA14' has 99999 -> NaN\n",
    "    ### 'MT6C' has 99 -> NaN\n",
    "    ### 'MT11' has 99 ->NaN\n",
    "    ### 'MT11' has 98 -> 0 \n",
    "    ### 'DL8' has outliers... larger than 100\n",
    "    train.loc[train['AA14']==99999,'AA14']=np.nan\n",
    "    train.loc[train['MT6C']==99,'MT6C']=np.nan\n",
    "#    train.loc[train['MT11']==99,'MT11']=np.nan\n",
    "#    train.loc[train['MT11']==98,'MT11']=0.\n",
    "    train.loc[train['DL8']>=100,'DL8']=np.nan\n",
    "    return train,test\n",
    "    \n",
    "train,test = other_preprocessing(train,test)"
   ]
  },
  {
   "cell_type": "markdown",
   "metadata": {},
   "source": [
    "## 5. Data Type change : float -> object\n",
    "____________________"
   ]
  },
  {
   "cell_type": "code",
   "execution_count": 50,
   "metadata": {
    "ExecuteTime": {
     "end_time": "2018-03-09T17:57:14.339020Z",
     "start_time": "2018-03-09T17:52:35.788227Z"
    }
   },
   "outputs": [
    {
     "name": "stderr",
     "output_type": "stream",
     "text": [
      "\n",
      "  0%|          | 0/435 [00:00<?, ?it/s]\u001b[A\n",
      "  0%|          | 1/435 [00:00<01:16,  5.70it/s]\u001b[A\n",
      "  0%|          | 2/435 [00:00<01:10,  6.14it/s]\u001b[A\n",
      "  1%|          | 3/435 [00:00<01:04,  6.66it/s]\u001b[A\n",
      "  1%|          | 4/435 [00:00<01:02,  6.86it/s]\u001b[A\n",
      "  1%|          | 5/435 [00:00<01:02,  6.87it/s]\u001b[A\n",
      "  1%|▏         | 6/435 [00:00<01:02,  6.90it/s]\u001b[A\n",
      "  2%|▏         | 7/435 [00:01<01:01,  6.94it/s]\u001b[A\n",
      "  2%|▏         | 8/435 [00:01<01:00,  7.03it/s]\u001b[A\n",
      "  2%|▏         | 9/435 [00:01<01:00,  7.08it/s]\u001b[A\n",
      "  2%|▏         | 10/435 [00:01<00:59,  7.09it/s]\u001b[A\n",
      "  3%|▎         | 11/435 [00:01<00:59,  7.12it/s]\u001b[A\n",
      "  3%|▎         | 12/435 [00:01<00:59,  7.09it/s]\u001b[A\n",
      "  3%|▎         | 13/435 [00:01<01:00,  7.01it/s]\u001b[A\n",
      "  3%|▎         | 14/435 [00:02<01:00,  6.92it/s]\u001b[A\n",
      "  3%|▎         | 15/435 [00:02<01:01,  6.83it/s]\u001b[A\n",
      "  4%|▎         | 16/435 [00:02<01:01,  6.84it/s]\u001b[A\n",
      "  4%|▍         | 17/435 [00:02<01:00,  6.87it/s]\u001b[A\n",
      "  4%|▍         | 18/435 [00:02<01:00,  6.88it/s]\u001b[A\n",
      "  4%|▍         | 19/435 [00:02<01:00,  6.87it/s]\u001b[A\n",
      "  5%|▍         | 20/435 [00:02<01:00,  6.90it/s]\u001b[A\n",
      "  5%|▍         | 21/435 [00:03<00:59,  6.90it/s]\u001b[A\n",
      "  5%|▌         | 22/435 [00:03<00:59,  6.92it/s]\u001b[A\n",
      "  5%|▌         | 23/435 [00:03<00:59,  6.94it/s]\u001b[A\n",
      "  6%|▌         | 24/435 [00:03<00:59,  6.87it/s]\u001b[A\n",
      "  6%|▌         | 25/435 [00:03<01:00,  6.79it/s]\u001b[A\n",
      "  6%|▌         | 26/435 [00:03<01:00,  6.81it/s]\u001b[A\n",
      "  6%|▌         | 27/435 [00:03<00:59,  6.82it/s]\u001b[A\n",
      "  6%|▋         | 28/435 [00:04<00:59,  6.82it/s]\u001b[A\n",
      "  7%|▋         | 29/435 [00:04<00:59,  6.85it/s]\u001b[A\n",
      "  7%|▋         | 30/435 [00:04<00:59,  6.79it/s]\u001b[A\n",
      "  7%|▋         | 31/435 [00:04<00:59,  6.77it/s]\u001b[A\n",
      "  7%|▋         | 32/435 [00:04<01:00,  6.71it/s]\u001b[A\n",
      "  8%|▊         | 33/435 [00:04<00:59,  6.70it/s]\u001b[A\n",
      "  8%|▊         | 34/435 [00:05<00:59,  6.73it/s]\u001b[A\n",
      "  8%|▊         | 35/435 [00:05<00:59,  6.76it/s]\u001b[A\n",
      "  8%|▊         | 36/435 [00:05<00:58,  6.78it/s]\u001b[A\n",
      "Exception in thread Thread-5:\n",
      "Traceback (most recent call last):\n",
      "  File \"/Users/ryan/anaconda3/lib/python3.6/threading.py\", line 916, in _bootstrap_inner\n",
      "    self.run()\n",
      "  File \"/Users/ryan/anaconda3/lib/python3.6/site-packages/tqdm/_tqdm.py\", line 144, in run\n",
      "    for instance in self.tqdm_cls._instances:\n",
      "  File \"/Users/ryan/anaconda3/lib/python3.6/_weakrefset.py\", line 60, in __iter__\n",
      "    for itemref in self.data:\n",
      "RuntimeError: Set changed size during iteration\n",
      "\n",
      "100%|██████████| 435/435 [01:43<00:00,  4.19it/s]\n",
      "100%|██████████| 435/435 [02:54<00:00,  2.49it/s]\n"
     ]
    }
   ],
   "source": [
    "def dtype_float_object(df,col):\n",
    "    for i in tqdm(range(len(df[col].columns))):\n",
    "        df[df[col].columns[i]]=train[df[col].columns[i]].astype(object)\n",
    "    return df\n",
    "\n",
    "train = dtype_float_object(train,col)\n",
    "test = dtype_float_object(test,col)"
   ]
  },
  {
   "cell_type": "code",
   "execution_count": 52,
   "metadata": {
    "ExecuteTime": {
     "end_time": "2018-03-09T17:57:24.386305Z",
     "start_time": "2018-03-09T17:57:23.625227Z"
    }
   },
   "outputs": [],
   "source": [
    "train_temp=train.drop(['is_female','train_id'],axis=1)\n",
    "test_temp=test.drop(['test_id'],axis=1)"
   ]
  },
  {
   "cell_type": "markdown",
   "metadata": {},
   "source": [
    "## 6. Make New Features\n",
    "__________"
   ]
  },
  {
   "cell_type": "code",
   "execution_count": 62,
   "metadata": {
    "ExecuteTime": {
     "end_time": "2018-03-09T18:04:03.986942Z",
     "start_time": "2018-03-09T18:01:18.671172Z"
    }
   },
   "outputs": [],
   "source": [
    "# I saved new dictionary to \"my_file.npy\"\n",
    "# np.save('my_file.npy', add_columns) \n",
    "\n",
    "## add features\n",
    "## sum -> object\n",
    "## mean -> continous data\n",
    "## std -> continuous data\n",
    "\n",
    "add_columns = np.load('my_file.npy').item()\n",
    "def add_new_features(df,add_columns):\n",
    "    add=['add'+str(i+1) for i in range(len(add_columns.keys()))]\n",
    "    for i in add_columns.keys():\n",
    "        df[i]=df.loc[:,add_columns[i]].sum(axis=1)\n",
    "        df[i+\"m\"]=df.loc[:,add_columns[i]].mean(axis=1)\n",
    "        df[i+\"s\"]=df.loc[:,add_columns[i]].std(axis=1)\n",
    "        df[i]=df[i].astype(object)\n",
    "    return(df)\n",
    "\n",
    "train_temp = add_new_features(train_temp,add_columns)\n",
    "test_temp = add_new_features(test_temp,add_columns)"
   ]
  },
  {
   "cell_type": "markdown",
   "metadata": {
    "ExecuteTime": {
     "end_time": "2018-02-21T04:24:23.781404Z",
     "start_time": "2018-02-21T04:24:23.739264Z"
    }
   },
   "source": [
    "## 7. One-Hot Encoding\n",
    "__________________\n",
    "| Data | Total # (Before ONE-HOT coding)| Total # (After ONE-HOT coding)\n",
    "| :- |:-------------: | :-:| :-:\n",
    "|Train Data|676 | 4271\n",
    "|Test Data| 676 | 5676"
   ]
  },
  {
   "cell_type": "code",
   "execution_count": 64,
   "metadata": {
    "ExecuteTime": {
     "end_time": "2018-03-09T18:05:08.595081Z",
     "start_time": "2018-03-09T18:05:08.583150Z"
    }
   },
   "outputs": [],
   "source": [
    "final_list=col.copy()\n",
    "add=['add'+str(i+1) for i in range(len(add_columns.keys()))]\n",
    "for i in conti:\n",
    "    final_list.append(i)\n",
    "for j in not_most_nan:\n",
    "    final_list.append(j)\n",
    "for k in add:\n",
    "    final_list.append(k)\n",
    "    final_list.append(k+'m')\n",
    "    final_list.append(k+'s')\n",
    "final_list.remove('add33')\n",
    "final_list.remove('add33m')\n",
    "final_list.remove('add33s')\n",
    "\n",
    "print(train_temp[final_list].shape,test_temp[final_list].shape)\n",
    "\n",
    "train_final = pd.get_dummies(train_temp[final_list], dummy_na=True)\n",
    "test_final = pd.get_dummies(test_temp[final_list], dummy_na=True)\n",
    "print(train_final.shape,test_final.shape)"
   ]
  },
  {
   "cell_type": "markdown",
   "metadata": {},
   "source": [
    "## 8. Find overlapping columns\n",
    "__________________\n",
    "I will only use the columns in Both train & test data set\n",
    "\n",
    "| Data |  Total # (After ONE-HOT coding)\n",
    "| :- | :-:| :-:\n",
    "|Train Data| 4271\n",
    "|Test Data| 5676\n",
    "\n",
    "-> <b>Total 4091 features</b> overlapped between train set and test set."
   ]
  },
  {
   "cell_type": "code",
   "execution_count": 68,
   "metadata": {
    "ExecuteTime": {
     "end_time": "2018-03-09T18:05:52.767749Z",
     "start_time": "2018-03-09T18:05:52.304480Z"
    }
   },
   "outputs": [
    {
     "name": "stdout",
     "output_type": "stream",
     "text": [
      "4271 5676 4091\n"
     ]
    }
   ],
   "source": [
    "train_columns = train_final.columns.values\n",
    "test_columns = test_final.columns.values\n",
    "\n",
    "n=0\n",
    "new_columns=[]\n",
    "for i in range(len(test_columns)):\n",
    "    if test_columns[i] in train_columns:\n",
    "        n+=1\n",
    "        new_columns.append(test_columns[i])\n",
    "print(len(train_columns), len(test_columns), len(new_columns))"
   ]
  },
  {
   "cell_type": "markdown",
   "metadata": {},
   "source": [
    "## 9. Model Fitting \n",
    "________________\n",
    "###  (1) Cross validation"
   ]
  },
  {
   "cell_type": "code",
   "execution_count": 73,
   "metadata": {
    "ExecuteTime": {
     "end_time": "2018-03-09T18:48:26.260475Z",
     "start_time": "2018-03-09T18:18:10.747396Z"
    }
   },
   "outputs": [
    {
     "data": {
      "text/html": [
       "<div>\n",
       "<style scoped>\n",
       "    .dataframe tbody tr th:only-of-type {\n",
       "        vertical-align: middle;\n",
       "    }\n",
       "\n",
       "    .dataframe tbody tr th {\n",
       "        vertical-align: top;\n",
       "    }\n",
       "\n",
       "    .dataframe thead th {\n",
       "        text-align: right;\n",
       "    }\n",
       "</style>\n",
       "<table border=\"1\" class=\"dataframe\">\n",
       "  <thead>\n",
       "    <tr style=\"text-align: right;\">\n",
       "      <th></th>\n",
       "      <th>test-auc-mean</th>\n",
       "      <th>test-auc-std</th>\n",
       "      <th>train-auc-mean</th>\n",
       "      <th>train-auc-std</th>\n",
       "    </tr>\n",
       "  </thead>\n",
       "  <tbody>\n",
       "    <tr>\n",
       "      <th>0</th>\n",
       "      <td>0.950329</td>\n",
       "      <td>0.002732</td>\n",
       "      <td>0.961995</td>\n",
       "      <td>0.000408</td>\n",
       "    </tr>\n",
       "    <tr>\n",
       "      <th>1</th>\n",
       "      <td>0.953348</td>\n",
       "      <td>0.001772</td>\n",
       "      <td>0.968216</td>\n",
       "      <td>0.000688</td>\n",
       "    </tr>\n",
       "    <tr>\n",
       "      <th>2</th>\n",
       "      <td>0.956560</td>\n",
       "      <td>0.002022</td>\n",
       "      <td>0.971998</td>\n",
       "      <td>0.000825</td>\n",
       "    </tr>\n",
       "    <tr>\n",
       "      <th>3</th>\n",
       "      <td>0.958809</td>\n",
       "      <td>0.001277</td>\n",
       "      <td>0.974170</td>\n",
       "      <td>0.000557</td>\n",
       "    </tr>\n",
       "    <tr>\n",
       "      <th>4</th>\n",
       "      <td>0.959265</td>\n",
       "      <td>0.002072</td>\n",
       "      <td>0.975554</td>\n",
       "      <td>0.000361</td>\n",
       "    </tr>\n",
       "    <tr>\n",
       "      <th>5</th>\n",
       "      <td>0.960311</td>\n",
       "      <td>0.001635</td>\n",
       "      <td>0.976704</td>\n",
       "      <td>0.000468</td>\n",
       "    </tr>\n",
       "    <tr>\n",
       "      <th>6</th>\n",
       "      <td>0.960869</td>\n",
       "      <td>0.001571</td>\n",
       "      <td>0.977491</td>\n",
       "      <td>0.000571</td>\n",
       "    </tr>\n",
       "    <tr>\n",
       "      <th>7</th>\n",
       "      <td>0.961448</td>\n",
       "      <td>0.001509</td>\n",
       "      <td>0.978358</td>\n",
       "      <td>0.000589</td>\n",
       "    </tr>\n",
       "    <tr>\n",
       "      <th>8</th>\n",
       "      <td>0.961878</td>\n",
       "      <td>0.001699</td>\n",
       "      <td>0.979061</td>\n",
       "      <td>0.000346</td>\n",
       "    </tr>\n",
       "    <tr>\n",
       "      <th>9</th>\n",
       "      <td>0.962304</td>\n",
       "      <td>0.001889</td>\n",
       "      <td>0.979486</td>\n",
       "      <td>0.000367</td>\n",
       "    </tr>\n",
       "    <tr>\n",
       "      <th>10</th>\n",
       "      <td>0.962517</td>\n",
       "      <td>0.001878</td>\n",
       "      <td>0.979950</td>\n",
       "      <td>0.000355</td>\n",
       "    </tr>\n",
       "    <tr>\n",
       "      <th>11</th>\n",
       "      <td>0.962929</td>\n",
       "      <td>0.001821</td>\n",
       "      <td>0.980280</td>\n",
       "      <td>0.000412</td>\n",
       "    </tr>\n",
       "    <tr>\n",
       "      <th>12</th>\n",
       "      <td>0.963172</td>\n",
       "      <td>0.001918</td>\n",
       "      <td>0.980702</td>\n",
       "      <td>0.000462</td>\n",
       "    </tr>\n",
       "    <tr>\n",
       "      <th>13</th>\n",
       "      <td>0.963612</td>\n",
       "      <td>0.001873</td>\n",
       "      <td>0.981134</td>\n",
       "      <td>0.000360</td>\n",
       "    </tr>\n",
       "    <tr>\n",
       "      <th>14</th>\n",
       "      <td>0.963838</td>\n",
       "      <td>0.001886</td>\n",
       "      <td>0.981420</td>\n",
       "      <td>0.000327</td>\n",
       "    </tr>\n",
       "    <tr>\n",
       "      <th>15</th>\n",
       "      <td>0.964099</td>\n",
       "      <td>0.001931</td>\n",
       "      <td>0.981670</td>\n",
       "      <td>0.000351</td>\n",
       "    </tr>\n",
       "    <tr>\n",
       "      <th>16</th>\n",
       "      <td>0.964209</td>\n",
       "      <td>0.001971</td>\n",
       "      <td>0.981995</td>\n",
       "      <td>0.000255</td>\n",
       "    </tr>\n",
       "    <tr>\n",
       "      <th>17</th>\n",
       "      <td>0.964362</td>\n",
       "      <td>0.001994</td>\n",
       "      <td>0.982370</td>\n",
       "      <td>0.000268</td>\n",
       "    </tr>\n",
       "    <tr>\n",
       "      <th>18</th>\n",
       "      <td>0.964555</td>\n",
       "      <td>0.001930</td>\n",
       "      <td>0.982735</td>\n",
       "      <td>0.000371</td>\n",
       "    </tr>\n",
       "    <tr>\n",
       "      <th>19</th>\n",
       "      <td>0.964579</td>\n",
       "      <td>0.001778</td>\n",
       "      <td>0.983029</td>\n",
       "      <td>0.000358</td>\n",
       "    </tr>\n",
       "    <tr>\n",
       "      <th>20</th>\n",
       "      <td>0.964730</td>\n",
       "      <td>0.001695</td>\n",
       "      <td>0.983347</td>\n",
       "      <td>0.000341</td>\n",
       "    </tr>\n",
       "    <tr>\n",
       "      <th>21</th>\n",
       "      <td>0.964821</td>\n",
       "      <td>0.001846</td>\n",
       "      <td>0.983660</td>\n",
       "      <td>0.000328</td>\n",
       "    </tr>\n",
       "    <tr>\n",
       "      <th>22</th>\n",
       "      <td>0.964905</td>\n",
       "      <td>0.001803</td>\n",
       "      <td>0.983930</td>\n",
       "      <td>0.000404</td>\n",
       "    </tr>\n",
       "    <tr>\n",
       "      <th>23</th>\n",
       "      <td>0.965068</td>\n",
       "      <td>0.001921</td>\n",
       "      <td>0.984175</td>\n",
       "      <td>0.000347</td>\n",
       "    </tr>\n",
       "    <tr>\n",
       "      <th>24</th>\n",
       "      <td>0.965140</td>\n",
       "      <td>0.001997</td>\n",
       "      <td>0.984396</td>\n",
       "      <td>0.000334</td>\n",
       "    </tr>\n",
       "    <tr>\n",
       "      <th>25</th>\n",
       "      <td>0.965326</td>\n",
       "      <td>0.002067</td>\n",
       "      <td>0.984684</td>\n",
       "      <td>0.000350</td>\n",
       "    </tr>\n",
       "    <tr>\n",
       "      <th>26</th>\n",
       "      <td>0.965415</td>\n",
       "      <td>0.001992</td>\n",
       "      <td>0.985024</td>\n",
       "      <td>0.000394</td>\n",
       "    </tr>\n",
       "    <tr>\n",
       "      <th>27</th>\n",
       "      <td>0.965522</td>\n",
       "      <td>0.001991</td>\n",
       "      <td>0.985282</td>\n",
       "      <td>0.000379</td>\n",
       "    </tr>\n",
       "    <tr>\n",
       "      <th>28</th>\n",
       "      <td>0.965594</td>\n",
       "      <td>0.002051</td>\n",
       "      <td>0.985540</td>\n",
       "      <td>0.000382</td>\n",
       "    </tr>\n",
       "    <tr>\n",
       "      <th>29</th>\n",
       "      <td>0.965737</td>\n",
       "      <td>0.002135</td>\n",
       "      <td>0.985777</td>\n",
       "      <td>0.000357</td>\n",
       "    </tr>\n",
       "    <tr>\n",
       "      <th>...</th>\n",
       "      <td>...</td>\n",
       "      <td>...</td>\n",
       "      <td>...</td>\n",
       "      <td>...</td>\n",
       "    </tr>\n",
       "    <tr>\n",
       "      <th>206</th>\n",
       "      <td>0.970209</td>\n",
       "      <td>0.001776</td>\n",
       "      <td>0.999619</td>\n",
       "      <td>0.000008</td>\n",
       "    </tr>\n",
       "    <tr>\n",
       "      <th>207</th>\n",
       "      <td>0.970216</td>\n",
       "      <td>0.001779</td>\n",
       "      <td>0.999629</td>\n",
       "      <td>0.000007</td>\n",
       "    </tr>\n",
       "    <tr>\n",
       "      <th>208</th>\n",
       "      <td>0.970202</td>\n",
       "      <td>0.001763</td>\n",
       "      <td>0.999638</td>\n",
       "      <td>0.000009</td>\n",
       "    </tr>\n",
       "    <tr>\n",
       "      <th>209</th>\n",
       "      <td>0.970185</td>\n",
       "      <td>0.001745</td>\n",
       "      <td>0.999648</td>\n",
       "      <td>0.000009</td>\n",
       "    </tr>\n",
       "    <tr>\n",
       "      <th>210</th>\n",
       "      <td>0.970172</td>\n",
       "      <td>0.001753</td>\n",
       "      <td>0.999657</td>\n",
       "      <td>0.000008</td>\n",
       "    </tr>\n",
       "    <tr>\n",
       "      <th>211</th>\n",
       "      <td>0.970161</td>\n",
       "      <td>0.001737</td>\n",
       "      <td>0.999668</td>\n",
       "      <td>0.000007</td>\n",
       "    </tr>\n",
       "    <tr>\n",
       "      <th>212</th>\n",
       "      <td>0.970166</td>\n",
       "      <td>0.001721</td>\n",
       "      <td>0.999677</td>\n",
       "      <td>0.000007</td>\n",
       "    </tr>\n",
       "    <tr>\n",
       "      <th>213</th>\n",
       "      <td>0.970173</td>\n",
       "      <td>0.001737</td>\n",
       "      <td>0.999685</td>\n",
       "      <td>0.000006</td>\n",
       "    </tr>\n",
       "    <tr>\n",
       "      <th>214</th>\n",
       "      <td>0.970184</td>\n",
       "      <td>0.001751</td>\n",
       "      <td>0.999694</td>\n",
       "      <td>0.000005</td>\n",
       "    </tr>\n",
       "    <tr>\n",
       "      <th>215</th>\n",
       "      <td>0.970192</td>\n",
       "      <td>0.001744</td>\n",
       "      <td>0.999700</td>\n",
       "      <td>0.000006</td>\n",
       "    </tr>\n",
       "    <tr>\n",
       "      <th>216</th>\n",
       "      <td>0.970192</td>\n",
       "      <td>0.001740</td>\n",
       "      <td>0.999707</td>\n",
       "      <td>0.000005</td>\n",
       "    </tr>\n",
       "    <tr>\n",
       "      <th>217</th>\n",
       "      <td>0.970202</td>\n",
       "      <td>0.001748</td>\n",
       "      <td>0.999716</td>\n",
       "      <td>0.000006</td>\n",
       "    </tr>\n",
       "    <tr>\n",
       "      <th>218</th>\n",
       "      <td>0.970228</td>\n",
       "      <td>0.001741</td>\n",
       "      <td>0.999723</td>\n",
       "      <td>0.000006</td>\n",
       "    </tr>\n",
       "    <tr>\n",
       "      <th>219</th>\n",
       "      <td>0.970237</td>\n",
       "      <td>0.001754</td>\n",
       "      <td>0.999731</td>\n",
       "      <td>0.000008</td>\n",
       "    </tr>\n",
       "    <tr>\n",
       "      <th>220</th>\n",
       "      <td>0.970244</td>\n",
       "      <td>0.001767</td>\n",
       "      <td>0.999738</td>\n",
       "      <td>0.000007</td>\n",
       "    </tr>\n",
       "    <tr>\n",
       "      <th>221</th>\n",
       "      <td>0.970245</td>\n",
       "      <td>0.001743</td>\n",
       "      <td>0.999745</td>\n",
       "      <td>0.000007</td>\n",
       "    </tr>\n",
       "    <tr>\n",
       "      <th>222</th>\n",
       "      <td>0.970240</td>\n",
       "      <td>0.001742</td>\n",
       "      <td>0.999751</td>\n",
       "      <td>0.000006</td>\n",
       "    </tr>\n",
       "    <tr>\n",
       "      <th>223</th>\n",
       "      <td>0.970247</td>\n",
       "      <td>0.001748</td>\n",
       "      <td>0.999758</td>\n",
       "      <td>0.000005</td>\n",
       "    </tr>\n",
       "    <tr>\n",
       "      <th>224</th>\n",
       "      <td>0.970261</td>\n",
       "      <td>0.001751</td>\n",
       "      <td>0.999766</td>\n",
       "      <td>0.000006</td>\n",
       "    </tr>\n",
       "    <tr>\n",
       "      <th>225</th>\n",
       "      <td>0.970256</td>\n",
       "      <td>0.001757</td>\n",
       "      <td>0.999772</td>\n",
       "      <td>0.000007</td>\n",
       "    </tr>\n",
       "    <tr>\n",
       "      <th>226</th>\n",
       "      <td>0.970280</td>\n",
       "      <td>0.001752</td>\n",
       "      <td>0.999777</td>\n",
       "      <td>0.000006</td>\n",
       "    </tr>\n",
       "    <tr>\n",
       "      <th>227</th>\n",
       "      <td>0.970271</td>\n",
       "      <td>0.001767</td>\n",
       "      <td>0.999783</td>\n",
       "      <td>0.000005</td>\n",
       "    </tr>\n",
       "    <tr>\n",
       "      <th>228</th>\n",
       "      <td>0.970261</td>\n",
       "      <td>0.001748</td>\n",
       "      <td>0.999789</td>\n",
       "      <td>0.000006</td>\n",
       "    </tr>\n",
       "    <tr>\n",
       "      <th>229</th>\n",
       "      <td>0.970260</td>\n",
       "      <td>0.001750</td>\n",
       "      <td>0.999796</td>\n",
       "      <td>0.000006</td>\n",
       "    </tr>\n",
       "    <tr>\n",
       "      <th>230</th>\n",
       "      <td>0.970259</td>\n",
       "      <td>0.001741</td>\n",
       "      <td>0.999801</td>\n",
       "      <td>0.000005</td>\n",
       "    </tr>\n",
       "    <tr>\n",
       "      <th>231</th>\n",
       "      <td>0.970271</td>\n",
       "      <td>0.001740</td>\n",
       "      <td>0.999806</td>\n",
       "      <td>0.000005</td>\n",
       "    </tr>\n",
       "    <tr>\n",
       "      <th>232</th>\n",
       "      <td>0.970264</td>\n",
       "      <td>0.001752</td>\n",
       "      <td>0.999812</td>\n",
       "      <td>0.000006</td>\n",
       "    </tr>\n",
       "    <tr>\n",
       "      <th>233</th>\n",
       "      <td>0.970256</td>\n",
       "      <td>0.001756</td>\n",
       "      <td>0.999818</td>\n",
       "      <td>0.000005</td>\n",
       "    </tr>\n",
       "    <tr>\n",
       "      <th>234</th>\n",
       "      <td>0.970271</td>\n",
       "      <td>0.001753</td>\n",
       "      <td>0.999820</td>\n",
       "      <td>0.000007</td>\n",
       "    </tr>\n",
       "    <tr>\n",
       "      <th>235</th>\n",
       "      <td>0.970289</td>\n",
       "      <td>0.001752</td>\n",
       "      <td>0.999825</td>\n",
       "      <td>0.000007</td>\n",
       "    </tr>\n",
       "  </tbody>\n",
       "</table>\n",
       "<p>236 rows × 4 columns</p>\n",
       "</div>"
      ],
      "text/plain": [
       "     test-auc-mean  test-auc-std  train-auc-mean  train-auc-std\n",
       "0         0.950329      0.002732        0.961995       0.000408\n",
       "1         0.953348      0.001772        0.968216       0.000688\n",
       "2         0.956560      0.002022        0.971998       0.000825\n",
       "3         0.958809      0.001277        0.974170       0.000557\n",
       "4         0.959265      0.002072        0.975554       0.000361\n",
       "5         0.960311      0.001635        0.976704       0.000468\n",
       "6         0.960869      0.001571        0.977491       0.000571\n",
       "7         0.961448      0.001509        0.978358       0.000589\n",
       "8         0.961878      0.001699        0.979061       0.000346\n",
       "9         0.962304      0.001889        0.979486       0.000367\n",
       "10        0.962517      0.001878        0.979950       0.000355\n",
       "11        0.962929      0.001821        0.980280       0.000412\n",
       "12        0.963172      0.001918        0.980702       0.000462\n",
       "13        0.963612      0.001873        0.981134       0.000360\n",
       "14        0.963838      0.001886        0.981420       0.000327\n",
       "15        0.964099      0.001931        0.981670       0.000351\n",
       "16        0.964209      0.001971        0.981995       0.000255\n",
       "17        0.964362      0.001994        0.982370       0.000268\n",
       "18        0.964555      0.001930        0.982735       0.000371\n",
       "19        0.964579      0.001778        0.983029       0.000358\n",
       "20        0.964730      0.001695        0.983347       0.000341\n",
       "21        0.964821      0.001846        0.983660       0.000328\n",
       "22        0.964905      0.001803        0.983930       0.000404\n",
       "23        0.965068      0.001921        0.984175       0.000347\n",
       "24        0.965140      0.001997        0.984396       0.000334\n",
       "25        0.965326      0.002067        0.984684       0.000350\n",
       "26        0.965415      0.001992        0.985024       0.000394\n",
       "27        0.965522      0.001991        0.985282       0.000379\n",
       "28        0.965594      0.002051        0.985540       0.000382\n",
       "29        0.965737      0.002135        0.985777       0.000357\n",
       "..             ...           ...             ...            ...\n",
       "206       0.970209      0.001776        0.999619       0.000008\n",
       "207       0.970216      0.001779        0.999629       0.000007\n",
       "208       0.970202      0.001763        0.999638       0.000009\n",
       "209       0.970185      0.001745        0.999648       0.000009\n",
       "210       0.970172      0.001753        0.999657       0.000008\n",
       "211       0.970161      0.001737        0.999668       0.000007\n",
       "212       0.970166      0.001721        0.999677       0.000007\n",
       "213       0.970173      0.001737        0.999685       0.000006\n",
       "214       0.970184      0.001751        0.999694       0.000005\n",
       "215       0.970192      0.001744        0.999700       0.000006\n",
       "216       0.970192      0.001740        0.999707       0.000005\n",
       "217       0.970202      0.001748        0.999716       0.000006\n",
       "218       0.970228      0.001741        0.999723       0.000006\n",
       "219       0.970237      0.001754        0.999731       0.000008\n",
       "220       0.970244      0.001767        0.999738       0.000007\n",
       "221       0.970245      0.001743        0.999745       0.000007\n",
       "222       0.970240      0.001742        0.999751       0.000006\n",
       "223       0.970247      0.001748        0.999758       0.000005\n",
       "224       0.970261      0.001751        0.999766       0.000006\n",
       "225       0.970256      0.001757        0.999772       0.000007\n",
       "226       0.970280      0.001752        0.999777       0.000006\n",
       "227       0.970271      0.001767        0.999783       0.000005\n",
       "228       0.970261      0.001748        0.999789       0.000006\n",
       "229       0.970260      0.001750        0.999796       0.000006\n",
       "230       0.970259      0.001741        0.999801       0.000005\n",
       "231       0.970271      0.001740        0.999806       0.000005\n",
       "232       0.970264      0.001752        0.999812       0.000006\n",
       "233       0.970256      0.001756        0.999818       0.000005\n",
       "234       0.970271      0.001753        0.999820       0.000007\n",
       "235       0.970289      0.001752        0.999825       0.000007\n",
       "\n",
       "[236 rows x 4 columns]"
      ]
     },
     "execution_count": 73,
     "metadata": {},
     "output_type": "execute_result"
    }
   ],
   "source": [
    "y = train.is_female.values\n",
    "X = train_final\n",
    "X = X[new_columns]\n",
    "\n",
    "X_train, X_val, y_train, y_val = train_test_split(X, y, random_state=0, test_size=.10)\n",
    "#X_val, X_test, y_val, y_test = train_test_split(X_val, y_val, random_state=0, test_size=.50)\n",
    "\n",
    "dtrain_all = xgb.DMatrix(X.values, y,feature_names=X.columns.values)\n",
    "dtrain = xgb.DMatrix(X_train, y_train, feature_names=X.columns.values)\n",
    "dval = xgb.DMatrix(X_val, y_val, feature_names=X.columns.values)\n",
    "#dtest = xgb.DMatrix(X_test, feature_names=X.columns.values)\n",
    "\n",
    "xgb_params = {\n",
    "    'eta': 0.05,\n",
    "    'min_child_weight': 6,\n",
    "    'n_trees': 10000, \n",
    "    'max_depth': 100,\n",
    "    'subsample': 0.85,\n",
    "    'colsample_bytree': 0.5,\n",
    "    'objective': \"binary:logistic\",\n",
    "    'base_score': y.mean(),\n",
    "    'silent': 1,\n",
    "    'eval_metric':\"auc\"\n",
    "}\n",
    "\n",
    "cv_results = xgb.cv(\n",
    "    xgb_params,\n",
    "    dtrain_all,\n",
    "    num_boost_round=1000,\n",
    "    seed=42,\n",
    "    nfold=5,\n",
    "    early_stopping_rounds=20\n",
    ")\n",
    "\n",
    "cv_results"
   ]
  },
  {
   "cell_type": "markdown",
   "metadata": {},
   "source": [
    "###  (2) Final model training"
   ]
  },
  {
   "cell_type": "code",
   "execution_count": 36,
   "metadata": {
    "ExecuteTime": {
     "end_time": "2018-02-28T23:40:51.457916Z",
     "start_time": "2018-02-28T23:32:53.140210Z"
    }
   },
   "outputs": [],
   "source": [
    "dtrain_all = xgb.DMatrix(X.values, y, feature_names=X.columns.values)\n",
    "xg_model = xgb.train(dict(xgb_params, silent=0), dtrain_all, num_boost_round=500)"
   ]
  },
  {
   "cell_type": "markdown",
   "metadata": {},
   "source": [
    "## 10. Make a submission file\n",
    "_____"
   ]
  },
  {
   "cell_type": "code",
   "execution_count": 37,
   "metadata": {
    "ExecuteTime": {
     "end_time": "2018-02-28T23:40:58.105479Z",
     "start_time": "2018-02-28T23:40:51.460416Z"
    }
   },
   "outputs": [],
   "source": [
    "final_test = test_final[new_columns]\n",
    "dtest = xgb.DMatrix(final_test, feature_names=X.columns.values)\n",
    "preds = xg_model.predict(dtest)\n",
    "sub = pd.read_csv(\"sample_submission.csv\")\n",
    "sub['is_female']=preds\n",
    "sub.to_csv(\"final.csv\",index=False)"
   ]
  },
  {
   "cell_type": "markdown",
   "metadata": {},
   "source": [
    "Done!!!!! :D"
   ]
  }
 ],
 "metadata": {
  "kernelspec": {
   "display_name": "Python 3",
   "language": "python",
   "name": "python3"
  },
  "language_info": {
   "codemirror_mode": {
    "name": "ipython",
    "version": 3
   },
   "file_extension": ".py",
   "mimetype": "text/x-python",
   "name": "python",
   "nbconvert_exporter": "python",
   "pygments_lexer": "ipython3",
   "version": "3.6.3"
  },
  "latex_envs": {
   "LaTeX_envs_menu_present": true,
   "autoclose": false,
   "autocomplete": true,
   "bibliofile": "biblio.bib",
   "cite_by": "apalike",
   "current_citInitial": 1,
   "eqLabelWithNumbers": true,
   "eqNumInitial": 1,
   "hotkeys": {
    "equation": "Ctrl-E",
    "itemize": "Ctrl-I"
   },
   "labels_anchors": false,
   "latex_user_defs": false,
   "report_style_numbering": false,
   "user_envs_cfg": false
  }
 },
 "nbformat": 4,
 "nbformat_minor": 2
}
